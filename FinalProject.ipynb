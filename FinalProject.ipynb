{
 "cells": [
  {
   "cell_type": "markdown",
   "id": "9a1dd379",
   "metadata": {},
   "source": [
    "# YearPredictionMSD Data Set\n",
    "## Python for Data Analysis - Final Project\n",
    "### CESAR Thomas, CHARRUEY Adrien - ESILV, A4, DIA 3"
   ]
  },
  {
   "cell_type": "markdown",
   "id": "f8927ba5",
   "metadata": {},
   "source": [
    "# TEST TEST TEST"
   ]
  },
  {
   "cell_type": "code",
   "execution_count": 1,
   "id": "cf7763d8",
   "metadata": {},
   "outputs": [
    {
     "name": "stdout",
     "output_type": "stream",
     "text": [
      "7\n"
     ]
    }
   ],
   "source": [
    "print(7)"
   ]
  },
  {
   "cell_type": "code",
   "execution_count": null,
   "id": "11f26a0b",
   "metadata": {},
   "outputs": [],
   "source": []
  }
 ],
 "metadata": {
  "kernelspec": {
   "display_name": "Python 3 (ipykernel)",
   "language": "python",
   "name": "python3"
  },
  "language_info": {
   "codemirror_mode": {
    "name": "ipython",
    "version": 3
   },
   "file_extension": ".py",
   "mimetype": "text/x-python",
   "name": "python",
   "nbconvert_exporter": "python",
   "pygments_lexer": "ipython3",
   "version": "3.8.12"
  }
 },
 "nbformat": 4,
 "nbformat_minor": 5
}
